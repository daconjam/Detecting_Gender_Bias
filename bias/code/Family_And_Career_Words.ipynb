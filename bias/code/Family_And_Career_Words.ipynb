{
 "cells": [
  {
   "cell_type": "markdown",
   "metadata": {},
   "source": [
    "# Family and Career Words \n",
    "\n",
    "Here we will run an algorithm to detect if a <i>male</i> or <i>female</i> abstract contains family and career words."
   ]
  },
  {
   "cell_type": "code",
   "execution_count": 1,
   "metadata": {},
   "outputs": [],
   "source": [
    "import pandas as pd\n",
    "import sys\n",
    "import matplotlib.pyplot as plt\n",
    "%matplotlib inline \n",
    "\n",
    "import warnings\n",
    "warnings.filterwarnings('ignore')"
   ]
  },
  {
   "cell_type": "code",
   "execution_count": 2,
   "metadata": {},
   "outputs": [],
   "source": [
    "MIND = pd.read_csv('MIND.csv')\n",
    "MIND = MIND.drop(['Unnamed: 0', 'Count', 'Neg', 'Neu', 'Pos'], axis=1)\n",
    "\n",
    "MIND['Family Words'] = float(0)\n",
    "MIND['Career Words'] = float(0)\n",
    "\n",
    "\n",
    "# Here we create gender-specific dfs\n",
    "\n",
    "male_MIND = MIND[MIND['Gender'] == 'M']\n",
    "female_MIND = MIND[MIND['Gender'] == 'F']"
   ]
  },
  {
   "cell_type": "code",
   "execution_count": 3,
   "metadata": {},
   "outputs": [],
   "source": [
    "NCD = pd.read_csv('NCD.csv')\n",
    "NCD = NCD.drop(['Unnamed: 0', 'Count', 'Neg', 'Neu', 'Pos'], axis=1)\n",
    "\n",
    "NCD['Family Words'] = float(0)\n",
    "NCD['Career Words'] = float(0)\n",
    "\n",
    "# Here we create gender-specific dfs\n",
    "\n",
    "male_NCD = NCD[NCD['Gender'] == 'M']\n",
    "female_NCD = NCD[NCD['Gender'] == 'F']"
   ]
  },
  {
   "cell_type": "code",
   "execution_count": 4,
   "metadata": {},
   "outputs": [],
   "source": [
    "ANTCD = pd.read_csv('ANTCD.csv')\n",
    "ANTCD = ANTCD.drop(['Unnamed: 0', 'Count', 'Neg', 'Neu', 'Pos'], axis=1)\n",
    "\n",
    "ANTCD['Family Words'] = float(0)\n",
    "ANTCD['Career Words'] = float(0)\n",
    "\n",
    "# Here we create gender-specific dfs\n",
    "\n",
    "male_ANTCD = ANTCD[ANTCD['Gender'] == 'M']\n",
    "female_ANTCD = ANTCD[ANTCD['Gender'] == 'F']"
   ]
  },
  {
   "cell_type": "code",
   "execution_count": 5,
   "metadata": {},
   "outputs": [],
   "source": [
    "family_words = ['niece', 'mother', 'mom','mummies','grandmother','nuns', 'stepdaughter', 'women', 'daughter-in-law', 'daughter', 'queens',\n",
    "                'brides', 'mummy', 'empresses', 'madam', 'granddaughter', 'grand-daughter','moms','stepmothers', 'stepdaughters', 'girlfriend', \n",
    "                'grand-mothers', 'grandmothers', 'step-daughter', 'nieces', 'wife', 'mothers','wives', 'girl',  'madams', 'mamas', 'aunt', \n",
    "                'fiancee', 'mrs','mother-in-law', 'bride', 'daughters-in-law','aunts', 'heir', 'heiress', 'sister', 'grandma', 'grandmas', 'dam', 'widow', \n",
    "                'granddaughters', 'grand-daughters', 'girls', 'she',  'step-mother','stepmother','mrs.', 'sisters','mama', 'woman','daughters', \n",
    "                'girlfriends', 'ma', 'mum','mommy', 'gal', 'gals', 'sistren', 'matriarch', 'matriarchy', 'motherhood', 'wifey', 'sis', \n",
    "                'granny', 'grannies', 'mami', 'momma', \"ma'am\", 'gf', 'gfs', 'damsel', 'damsels', 'vixen', 'vixens', 'nanny', 'nannies','auntie', \n",
    "                'womenfolk', 'sisterly', 'motherly', 'homegirl', 'homegirls', 'grand-neice', 'grand-neices','grandneice', 'grandneices', 'madame',\n",
    "                'him','father', 'fathers','dad', 'beau', 'beaus', 'daddies','grandfather', 'step-son', 'step-sons', 'men', 'son-in-law', 'daddy', 'son', 'groom', 'grooms', \n",
    "                'sir', 'grandson', 'grand-son','dads', 'prince', 'stepfathers','boyfriend', 'grandfathers', 'grand-fathers', 'husband', \n",
    "                'husbands', 'boy', 'bachelor', 'bachelors', 'sirs', 'papas', 'uncle', 'princes', 'fiance', 'mr','father-in-law',\n",
    "                'sons-in-law', 'fiances', 'uncles', 'brother', 'grandpa', 'grandpas', 'widower','grandsons', 'grand-sons','boys', 'step-father','bridegroom', 'bridegrooms'\n",
    "                'stepfather', 'widowers', 'mr.,' 'brothers', 'man', 'sons', 'boyfriends', 'he’s', 'his', 'stepson', 'stepsons', \n",
    "                'guy', 'fraternity', 'fraternities', 'salesman', 'dude', 'dudes', 'paternal',\n",
    "                'brotherhood', 'papa', 'boyhood', 'manhood', 'masculine', 'brethren', 'chap','chaps',\n",
    "                'patriarch', 'patriachy', 'fatherhood', 'hubby', 'hubbies', 'fella', 'fellas', 'fraternal', \n",
    "                'bro', 'pappy', 'papi', 'pappies', 'dada', 'bf', 'bfs', 'brotherly', 'homeboy', 'homeboys','grandnephew', 'grand-nephew',\n",
    "                'grand-nephew', 'grand-nephews', 'gramps', 'family', 'infancy', 'infant', 'kin', 'orphan', 'twin'] \n"
   ]
  },
  {
   "cell_type": "code",
   "execution_count": 6,
   "metadata": {},
   "outputs": [],
   "source": [
    "career_words = ['policewoman','milkmaids', 'chairwomen', 'stewardesses', 'masseuses', 'priestesses', 'stewardess', 'proprietress', \n",
    "                'waitresses', 'congresswomen','moms', 'manageress', 'shepherdess', 'priestess', 'usherette', 'postwoman', 'hostess', \n",
    "                 'waitress', 'spinster', 'shepherdess', 'businesswomen', 'actress', 'actresses', \n",
    "                  'postmistress', 'headmistress', 'huntress', 'mistress', 'mistresses', 'sister', 'hostesses', \n",
    "                  'masseuse','maidservant', 'heiresses', 'patroness','governesses', 'congresswoman', 'headmistresses', \n",
    "                  'policewomen', 'chairwoman', 'maid', 'mayoress', 'peeress', 'traitress', 'benefactress', 'instructress', 'conductress',\n",
    "                  'huntress', 'temptress', 'enchantress', 'songstress', 'spokeswoman', 'spokeswomen', 'councilwoman', 'council-woman', 'councilwomen', 'council-women',\n",
    "                  'saleswoman', 'stateswoman', 'stateswomen', 'policeman', 'policemen', 'landlord', 'landlords', 'chairmen', 'chairman', \n",
    "                'steward', 'priest', 'king', 'governor', 'waiter', 'steward', 'proprietor', \n",
    "                'sorcerer', 'congressmen','dads', 'manager', 'waiter', 'actor', 'actors', 'postmaster', 'headmaster', \n",
    "                'businessman', 'manservant', 'tutors', 'congressman', 'benefactor',\n",
    "                'instructor', 'conductor', 'founder', 'founders', 'hunters', 'huntresses', 'tempt', 'enchanter', 'enchanters', 'spokesman', 'spokesmen',\n",
    "                'councilman', 'council-man', 'councilmen', 'council-men', 'salesman', 'handyman', 'knights', 'knight', \n",
    "                'academic', 'accountant', 'administrator', 'advisor', 'appraiser', 'architect', 'baker', 'bartender', 'business', 'career','carpenter', 'chemist',\n",
    "                'clerk', 'company', 'corporation', 'counselor', 'educator', 'electrician', 'engineer', 'examiner','executive', \n",
    "                'hairdresser', 'hygienist', 'industry', 'inspector','instructor', 'investigator', 'janitor', 'lawyer', 'librarian',\n",
    "                'machinist', 'management', 'mechanic', 'nurse', 'nutritionist', 'occupation', 'officer', 'paralegal',\n",
    "                'paramedic', 'pathologist', 'pharmacist', 'physician','plumber', 'practitioner', 'programmer', 'psychologist', \n",
    "                'receptionist', 'salary', 'salesperson', 'scientist', 'specialist', 'supervisor', 'surgeon', 'technician','therapist', \n",
    "                'veterinarian', 'worker']"
   ]
  },
  {
   "cell_type": "code",
   "execution_count": 7,
   "metadata": {},
   "outputs": [
    {
     "name": "stdout",
     "output_type": "stream",
     "text": [
      "Family words: 195\n",
      "Career words: 162\n",
      "Attribute words: 357\n"
     ]
    }
   ],
   "source": [
    "attribute_words  = len(family_words) + len(career_words)\n",
    "\n",
    "print('Family words:', len(family_words))\n",
    "print('Career words:', len(career_words))\n",
    "print('Attribute words:', attribute_words)"
   ]
  },
  {
   "cell_type": "code",
   "execution_count": 8,
   "metadata": {},
   "outputs": [],
   "source": [
    "def attribute_check(df):\n",
    "    \n",
    "    df['Abstract'] = df['Abstract'].apply(str) # ensures the sentences are strings\n",
    "\n",
    "    for index, line in enumerate(df['Abstract']):\n",
    "        words = line.split() \n",
    "\n",
    "        c, f = 0, 0  #counters for male and female words \n",
    "\n",
    "        for w in words: #checks into list of family words \n",
    "            if w in family_words: \n",
    "                f += 1 \n",
    "\n",
    "            if w in career_words: #checks into list of career words \n",
    "                c += 1\n",
    "\n",
    "        # Here we determine the tags of the abstracts  \n",
    "        if f >= 0:\n",
    "            df.loc[index, 'Family Words'] = f\n",
    "\n",
    "        if c >= 0:\n",
    "            df.loc[index, 'Career Words'] = c\n",
    "            \n",
    "    \n",
    "    \n",
    "    return df"
   ]
  },
  {
   "cell_type": "markdown",
   "metadata": {},
   "source": [
    "## Attribute Words: MIND "
   ]
  },
  {
   "cell_type": "code",
   "execution_count": 9,
   "metadata": {},
   "outputs": [
    {
     "name": "stdout",
     "output_type": "stream",
     "text": [
      "The avg. career words for \"M\" is : 0.1258 \n",
      "The avg. family words for \"M\" is : 0.6406\n"
     ]
    }
   ],
   "source": [
    "attribute_check(male_MIND)\n",
    "\n",
    "mavg_career = (male_MIND['Career Words'].sum())/(len(male_MIND))\n",
    "mavg_family = (male_MIND['Family Words'].sum())/(len(male_MIND))\n",
    "\n",
    "\n",
    "print('The avg. career words for \"M\" is :', round(mavg_career, 4), \n",
    "      '\\nThe avg. family words for \"M\" is :', round(mavg_family, 4))"
   ]
  },
  {
   "cell_type": "code",
   "execution_count": 10,
   "metadata": {},
   "outputs": [
    {
     "name": "stdout",
     "output_type": "stream",
     "text": [
      "The avg. career words for \"F\" is : 0.0907 \n",
      "The avg. family words for \"F\" is : 0.6954\n"
     ]
    }
   ],
   "source": [
    "attribute_check(female_MIND)\n",
    "\n",
    "favg_career = (female_MIND['Career Words'].sum())/(len(female_MIND))\n",
    "favg_family = (female_MIND['Family Words'].sum())/(len(female_MIND))\n",
    "\n",
    "\n",
    "print('The avg. career words for \"F\" is :', round(favg_career, 4), \n",
    "      '\\nThe avg. family words for \"F\" is :', round(favg_family, 4))"
   ]
  },
  {
   "cell_type": "markdown",
   "metadata": {},
   "source": [
    "## Attribute Words: NCD"
   ]
  },
  {
   "cell_type": "code",
   "execution_count": 11,
   "metadata": {},
   "outputs": [
    {
     "name": "stdout",
     "output_type": "stream",
     "text": [
      "The avg. career words for \"M\" is : 0.0657 \n",
      "The avg. family words for \"M\" is : 0.4431\n"
     ]
    }
   ],
   "source": [
    "attribute_check(male_NCD)\n",
    "\n",
    "mavg_career = (male_NCD['Career Words'].sum())/(len(male_NCD))\n",
    "mavg_family = (male_NCD['Family Words'].sum())/(len(male_NCD))\n",
    "\n",
    "\n",
    "print('The avg. career words for \"M\" is :', round(mavg_career, 4), \n",
    "      '\\nThe avg. family words for \"M\" is :', round(mavg_family, 4))"
   ]
  },
  {
   "cell_type": "code",
   "execution_count": 12,
   "metadata": {},
   "outputs": [
    {
     "name": "stdout",
     "output_type": "stream",
     "text": [
      "The avg. career words for \"F\" is : 0.0554 \n",
      "The avg. family words for \"F\" is : 0.4723\n"
     ]
    }
   ],
   "source": [
    "attribute_check(female_NCD)\n",
    "\n",
    "favg_career = (female_NCD['Career Words'].sum())/(len(female_NCD))\n",
    "favg_family = (female_NCD['Family Words'].sum())/(len(female_NCD))\n",
    "\n",
    "\n",
    "print('The avg. career words for \"F\" is :', round(favg_career, 4), \n",
    "      '\\nThe avg. family words for \"F\" is :', round(favg_family, 4))"
   ]
  },
  {
   "cell_type": "markdown",
   "metadata": {},
   "source": [
    "## Attribute Words: ANTCD"
   ]
  },
  {
   "cell_type": "code",
   "execution_count": 13,
   "metadata": {},
   "outputs": [
    {
     "name": "stdout",
     "output_type": "stream",
     "text": [
      "The avg. career words for \"M\" is : 0.1452 \n",
      "The avg. family words for \"M\" is : 0.455\n"
     ]
    }
   ],
   "source": [
    "attribute_check(male_ANTCD)\n",
    "\n",
    "mavg_career = (male_ANTCD['Career Words'].sum())/(len(male_ANTCD))\n",
    "mavg_family = (male_ANTCD['Family Words'].sum())/(len(male_ANTCD))\n",
    "\n",
    "\n",
    "print('The avg. career words for \"M\" is :', round(mavg_career, 4), \n",
    "      '\\nThe avg. family words for \"M\" is :', round(mavg_family, 4))"
   ]
  },
  {
   "cell_type": "code",
   "execution_count": 14,
   "metadata": {},
   "outputs": [
    {
     "name": "stdout",
     "output_type": "stream",
     "text": [
      "The avg. career words for \"F\" is : 0.079 \n",
      "The avg. family words for \"F\" is : 0.4089\n"
     ]
    }
   ],
   "source": [
    "attribute_check(female_ANTCD)\n",
    "\n",
    "favg_career = (female_ANTCD['Career Words'].sum())/(len(female_ANTCD))\n",
    "favg_family = (female_ANTCD['Family Words'].sum())/(len(female_ANTCD))\n",
    "\n",
    "\n",
    "print('The avg. career words for \"F\" is :', round(favg_career, 4), \n",
    "      '\\nThe avg. family words for \"F\" is :', round(favg_family, 4))"
   ]
  }
 ],
 "metadata": {
  "kernelspec": {
   "display_name": "Python 3",
   "language": "python",
   "name": "python3"
  },
  "language_info": {
   "codemirror_mode": {
    "name": "ipython",
    "version": 3
   },
   "file_extension": ".py",
   "mimetype": "text/x-python",
   "name": "python",
   "nbconvert_exporter": "python",
   "pygments_lexer": "ipython3",
   "version": "3.7.0"
  }
 },
 "nbformat": 4,
 "nbformat_minor": 2
}
